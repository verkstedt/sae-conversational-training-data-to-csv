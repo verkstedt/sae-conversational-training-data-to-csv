{
 "cells": [
  {
   "cell_type": "code",
   "execution_count": 139,
   "metadata": {},
   "outputs": [],
   "source": [
    "import pandas as pd\n",
    "import os"
   ]
  },
  {
   "cell_type": "code",
   "execution_count": 140,
   "metadata": {},
   "outputs": [],
   "source": [
    "# create file list with file names of all text input files\n",
    "file_list = [] \n",
    "for file in os.listdir(\"data/sae-conversational-agent/intents/\"):\n",
    "    if file.endswith(\"usersays_de.json\"):\n",
    "        file_list.append(file)"
   ]
  },
  {
   "cell_type": "code",
   "execution_count": 141,
   "metadata": {},
   "outputs": [],
   "source": [
    "df_all = pd.DataFrame()"
   ]
  },
  {
   "cell_type": "code",
   "execution_count": 145,
   "metadata": {},
   "outputs": [
    {
     "name": "stderr",
     "output_type": "stream",
     "text": [
      "/Library/Frameworks/Python.framework/Versions/3.7/lib/python3.7/site-packages/ipykernel_launcher.py:10: FutureWarning: The default value of regex will change from True to False in a future version.\n",
      "  # Remove the CWD from sys.path while we load stuff.\n"
     ]
    }
   ],
   "source": [
    "for file in file_list:\n",
    "    # read in JSON file\n",
    "    json_file = pd.read_json('data/sae-conversational-agent/intents/' + file)\n",
    "    df = pd.DataFrame(json_file['data'])\n",
    "    # dataframe of json_file\n",
    "    df[\"data_text\"] = df[\"data\"].apply(lambda x: [o[\"text\"] for o in x])\n",
    "    # cleaning to create readable column\n",
    "    df['data_text'] = df['data_text'].apply(lambda x: ', '.join(map(str, x))).str.replace(',', '').str.replace(r'\\s+', ' ', regex=True)\n",
    "    df['intent_name'] = file\n",
    "    df['intent_name'] = df['intent_name'].str.replace('_usersays_de.json', '')\n",
    "    df = df.drop(['data'], axis = 1)\n",
    "\n",
    "    # append df to df_all\n",
    "    df_all = df_all.append(df, ignore_index = True)"
   ]
  },
  {
   "cell_type": "code",
   "execution_count": 146,
   "metadata": {},
   "outputs": [],
   "source": [
    "# rearrange column order\n",
    "df_all = df_all[['intent_name', 'data_text']]\n"
   ]
  },
  {
   "cell_type": "code",
   "execution_count": 147,
   "metadata": {},
   "outputs": [
    {
     "data": {
      "text/html": [
       "<div>\n",
       "<style scoped>\n",
       "    .dataframe tbody tr th:only-of-type {\n",
       "        vertical-align: middle;\n",
       "    }\n",
       "\n",
       "    .dataframe tbody tr th {\n",
       "        vertical-align: top;\n",
       "    }\n",
       "\n",
       "    .dataframe thead th {\n",
       "        text-align: right;\n",
       "    }\n",
       "</style>\n",
       "<table border=\"1\" class=\"dataframe\">\n",
       "  <thead>\n",
       "    <tr style=\"text-align: right;\">\n",
       "      <th></th>\n",
       "      <th>intent_name</th>\n",
       "      <th>data_text</th>\n",
       "    </tr>\n",
       "  </thead>\n",
       "  <tbody>\n",
       "    <tr>\n",
       "      <th>0</th>\n",
       "      <td>faq_custom_sae_address</td>\n",
       "      <td>Shop Apotheke Adresse</td>\n",
       "    </tr>\n",
       "    <tr>\n",
       "      <th>1</th>\n",
       "      <td>faq_custom_sae_address</td>\n",
       "      <td>Adresse von Shop Apotheke für REzept</td>\n",
       "    </tr>\n",
       "    <tr>\n",
       "      <th>2</th>\n",
       "      <td>faq_custom_sae_address</td>\n",
       "      <td>faq_custom_sae_address</td>\n",
       "    </tr>\n",
       "    <tr>\n",
       "      <th>3</th>\n",
       "      <td>faq_custom_sae_address</td>\n",
       "      <td>Adresde vom shop Apotheke</td>\n",
       "    </tr>\n",
       "    <tr>\n",
       "      <th>4</th>\n",
       "      <td>faq_custom_sae_address</td>\n",
       "      <td>Adresse vom Shop Apotheke</td>\n",
       "    </tr>\n",
       "    <tr>\n",
       "      <th>...</th>\n",
       "      <td>...</td>\n",
       "      <td>...</td>\n",
       "    </tr>\n",
       "    <tr>\n",
       "      <th>13237</th>\n",
       "      <td>faq_custom_mahnung</td>\n",
       "      <td>Habe eine Mahnung bekommen</td>\n",
       "    </tr>\n",
       "    <tr>\n",
       "      <th>13238</th>\n",
       "      <td>faq_custom_mahnung</td>\n",
       "      <td>Mahnung</td>\n",
       "    </tr>\n",
       "    <tr>\n",
       "      <th>13239</th>\n",
       "      <td>faq_custom_mahnung</td>\n",
       "      <td>Guten tag ich habe eine Mahnung bekommen obwoh...</td>\n",
       "    </tr>\n",
       "    <tr>\n",
       "      <th>13240</th>\n",
       "      <td>faq_custom_mahnung</td>\n",
       "      <td>Ich habe eine Mahnung erhalten obwohl ich scho...</td>\n",
       "    </tr>\n",
       "    <tr>\n",
       "      <th>13241</th>\n",
       "      <td>faq_custom_mahnung</td>\n",
       "      <td>Ich habe am 29 September 52 38 bezahlt und jet...</td>\n",
       "    </tr>\n",
       "  </tbody>\n",
       "</table>\n",
       "<p>13242 rows × 2 columns</p>\n",
       "</div>"
      ],
      "text/plain": [
       "                  intent_name  \\\n",
       "0      faq_custom_sae_address   \n",
       "1      faq_custom_sae_address   \n",
       "2      faq_custom_sae_address   \n",
       "3      faq_custom_sae_address   \n",
       "4      faq_custom_sae_address   \n",
       "...                       ...   \n",
       "13237      faq_custom_mahnung   \n",
       "13238      faq_custom_mahnung   \n",
       "13239      faq_custom_mahnung   \n",
       "13240      faq_custom_mahnung   \n",
       "13241      faq_custom_mahnung   \n",
       "\n",
       "                                               data_text  \n",
       "0                                  Shop Apotheke Adresse  \n",
       "1                   Adresse von Shop Apotheke für REzept  \n",
       "2                                 faq_custom_sae_address  \n",
       "3                              Adresde vom shop Apotheke  \n",
       "4                              Adresse vom Shop Apotheke  \n",
       "...                                                  ...  \n",
       "13237                         Habe eine Mahnung bekommen  \n",
       "13238                                            Mahnung  \n",
       "13239  Guten tag ich habe eine Mahnung bekommen obwoh...  \n",
       "13240  Ich habe eine Mahnung erhalten obwohl ich scho...  \n",
       "13241  Ich habe am 29 September 52 38 bezahlt und jet...  \n",
       "\n",
       "[13242 rows x 2 columns]"
      ]
     },
     "execution_count": 147,
     "metadata": {},
     "output_type": "execute_result"
    }
   ],
   "source": [
    "df_all"
   ]
  },
  {
   "cell_type": "code",
   "execution_count": 152,
   "metadata": {},
   "outputs": [],
   "source": [
    "# remove rows where intent name is equal to data text, as this indicates no real user input\n",
    "df_all = df_all[df_all['intent_name'] != df_all['data_text']]"
   ]
  },
  {
   "cell_type": "code",
   "execution_count": 153,
   "metadata": {},
   "outputs": [],
   "source": [
    "# write as csv\n",
    "df_all.to_csv('training_data.csv' , index=False)"
   ]
  },
  {
   "cell_type": "code",
   "execution_count": null,
   "metadata": {},
   "outputs": [],
   "source": []
  }
 ],
 "metadata": {
  "kernelspec": {
   "display_name": "Python 3.7.9 64-bit",
   "language": "python",
   "name": "python3"
  },
  "language_info": {
   "codemirror_mode": {
    "name": "ipython",
    "version": 3
   },
   "file_extension": ".py",
   "mimetype": "text/x-python",
   "name": "python",
   "nbconvert_exporter": "python",
   "pygments_lexer": "ipython3",
   "version": "3.7.9"
  },
  "orig_nbformat": 4,
  "vscode": {
   "interpreter": {
    "hash": "aee8b7b246df8f9039afb4144a1f6fd8d2ca17a180786b69acc140d282b71a49"
   }
  }
 },
 "nbformat": 4,
 "nbformat_minor": 2
}
